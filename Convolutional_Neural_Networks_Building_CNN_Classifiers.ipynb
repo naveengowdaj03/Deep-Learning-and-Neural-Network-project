{
  "cells": [
    {
      "cell_type": "markdown",
      "id": "3c951050",
      "metadata": {
        "id": "3c951050"
      },
      "source": [
        "FMNIST Classifier:This notebook uses preloaded keras FMNIST dataset and implenting Convolutional Neural Networks to train and test the models.\n",
        "Also Utilizing pre-trained VGG-19 CNN model"
      ]
    },
    {
      "cell_type": "markdown",
      "id": "d14efc4c",
      "metadata": {
        "id": "d14efc4c"
      },
      "source": [
        "Importing Libraries"
      ]
    },
    {
      "cell_type": "code",
      "execution_count": 1,
      "id": "4527f393",
      "metadata": {
        "colab": {
          "base_uri": "https://localhost:8080/"
        },
        "id": "4527f393",
        "outputId": "e9a00e1b-8f82-46a0-95ed-cc63afc7c3ed"
      },
      "outputs": [
        {
          "output_type": "stream",
          "name": "stdout",
          "text": [
            "2.8.2\n"
          ]
        }
      ],
      "source": [
        "# to prevent unnecessary warnings\n",
        "import warnings\n",
        "warnings.simplefilter(action='ignore', category=FutureWarning)\n",
        "\n",
        "# TensorFlow and tf.keras\n",
        "import tensorflow as tf\n",
        "from tensorflow.keras.callbacks import TensorBoard,EarlyStopping\n",
        "import pandas as pd\n",
        "\n",
        "# Helper libraries\n",
        "import numpy as np\n",
        "import matplotlib.pyplot as plt\n",
        "import os\n",
        "import subprocess\n",
        "import cv2\n",
        "import json\n",
        "import requests\n",
        "from tqdm import tqdm\n",
        "\n",
        "\n",
        "print(tf.__version__)"
      ]
    },
    {
      "cell_type": "markdown",
      "id": "d67aad3f",
      "metadata": {
        "id": "d67aad3f"
      },
      "source": [
        "Loading Dataset"
      ]
    },
    {
      "cell_type": "code",
      "execution_count": 2,
      "id": "a3f5c8ba",
      "metadata": {
        "colab": {
          "base_uri": "https://localhost:8080/"
        },
        "id": "a3f5c8ba",
        "outputId": "127a88e2-caf9-42c1-a4fc-3a0c2fe7675c"
      },
      "outputs": [
        {
          "output_type": "stream",
          "name": "stdout",
          "text": [
            "Downloading data from https://storage.googleapis.com/tensorflow/tf-keras-datasets/train-labels-idx1-ubyte.gz\n",
            "32768/29515 [=================================] - 0s 0us/step\n",
            "40960/29515 [=========================================] - 0s 0us/step\n",
            "Downloading data from https://storage.googleapis.com/tensorflow/tf-keras-datasets/train-images-idx3-ubyte.gz\n",
            "26427392/26421880 [==============================] - 0s 0us/step\n",
            "26435584/26421880 [==============================] - 0s 0us/step\n",
            "Downloading data from https://storage.googleapis.com/tensorflow/tf-keras-datasets/t10k-labels-idx1-ubyte.gz\n",
            "16384/5148 [===============================================================================================] - 0s 0us/step\n",
            "Downloading data from https://storage.googleapis.com/tensorflow/tf-keras-datasets/t10k-images-idx3-ubyte.gz\n",
            "4423680/4422102 [==============================] - 0s 0us/step\n",
            "4431872/4422102 [==============================] - 0s 0us/step\n",
            "\n",
            "Train_images.shape: (60000, 28, 28), of uint8\n",
            "Test_images.shape: (10000, 28, 28), of uint8\n"
          ]
        }
      ],
      "source": [
        "fashion_mnist = tf.keras.datasets.fashion_mnist\n",
        "(train_images, train_labels), (test_images, test_labels) = fashion_mnist.load_data()\n",
        "\n",
        "class_names = ['T-shirt/top', 'Trouser', 'Pullover', 'Dress', 'Coat',\n",
        "'Sandal', 'Shirt', 'Sneaker', 'Bag', 'Ankle boot']\n",
        "\n",
        "print('\\nTrain_images.shape: {}, of {}'.format(train_images.shape, train_images.dtype))\n",
        "print('Test_images.shape: {}, of {}'.format(test_images.shape, test_images.dtype))"
      ]
    },
    {
      "cell_type": "markdown",
      "id": "69ee059c",
      "metadata": {
        "id": "69ee059c"
      },
      "source": [
        "Reshaping Image Data for Modeling"
      ]
    },
    {
      "cell_type": "code",
      "execution_count": 3,
      "id": "b80aba8c",
      "metadata": {
        "colab": {
          "base_uri": "https://localhost:8080/"
        },
        "id": "b80aba8c",
        "outputId": "40a77dcf-7b7c-4bc2-b059-50f49487ecc8"
      },
      "outputs": [
        {
          "output_type": "stream",
          "name": "stdout",
          "text": [
            "\n",
            "Train_images.shape: (60000, 28, 28, 1), of uint8\n",
            "Test_images.shape: (10000, 28, 28, 1), of uint8\n"
          ]
        }
      ],
      "source": [
        "# reshape for feeding into the model\n",
        "train_images_gr = train_images.reshape(train_images.shape[0], 28, 28, 1)\n",
        "test_images_gr = test_images.reshape(test_images.shape[0], 28, 28, 1)\n",
        "\n",
        "print('\\nTrain_images.shape: {}, of {}'.format(train_images_gr.shape, train_images_gr.dtype))\n",
        "print('Test_images.shape: {}, of {}'.format(test_images_gr.shape, test_images_gr.dtype))"
      ]
    },
    {
      "cell_type": "markdown",
      "id": "7d49d223",
      "metadata": {
        "id": "7d49d223"
      },
      "source": [
        "Plotting some of the figures from train dataset"
      ]
    },
    {
      "cell_type": "code",
      "execution_count": 4,
      "id": "d9a90811",
      "metadata": {
        "colab": {
          "base_uri": "https://localhost:8080/",
          "height": 390
        },
        "id": "d9a90811",
        "outputId": "500dd4a1-54c0-4bd1-8ea7-e62537beb571"
      },
      "outputs": [
        {
          "output_type": "display_data",
          "data": {
            "text/plain": [
              "<Figure size 864x432 with 15 Axes>"
            ],
            "image/png": "[encoded data removed]"
          },
          "metadata": {
            "needs_background": "light"
          }
        }
      ],
      "source": [
        "fig, ax = plt.subplots(3, 5, figsize=(12, 6))\n",
        "c = 0\n",
        "for i in range(15):\n",
        " idx = i // 5\n",
        " idy = i % 5\n",
        " ax[idx, idy].imshow(train_images_gr[i].reshape(28,28))\n",
        " ax[idx, idy].set_title(class_names[train_labels[i]])"
      ]
    },
    {
      "cell_type": "markdown",
      "id": "ab3570a1",
      "metadata": {
        "id": "ab3570a1"
      },
      "source": [
        "Building CNN Model Architecture"
      ]
    },
    {
      "cell_type": "code",
      "execution_count": 5,
      "id": "16ed336e",
      "metadata": {
        "colab": {
          "base_uri": "https://localhost:8080/"
        },
        "id": "16ed336e",
        "outputId": "21aa161d-6bb8-48ad-e429-57a119155ff2"
      },
      "outputs": [
        {
          "output_type": "stream",
          "name": "stdout",
          "text": [
            "Model: \"sequential\"\n",
            "_________________________________________________________________\n",
            " Layer (type)                Output Shape              Param #   \n",
            "=================================================================\n",
            " conv2d (Conv2D)             (None, 26, 26, 16)        160       \n",
            "                                                                 \n",
            " max_pooling2d (MaxPooling2D  (None, 13, 13, 16)       0         \n",
            " )                                                               \n",
            "                                                                 \n",
            " conv2d_1 (Conv2D)           (None, 11, 11, 32)        4640      \n",
            "                                                                 \n",
            " max_pooling2d_1 (MaxPooling  (None, 5, 5, 32)         0         \n",
            " 2D)                                                             \n",
            "                                                                 \n",
            " flatten (Flatten)           (None, 800)               0         \n",
            "                                                                 \n",
            " dense (Dense)               (None, 256)               205056    \n",
            "                                                                 \n",
            " dropout (Dropout)           (None, 256)               0         \n",
            "                                                                 \n",
            " dense_1 (Dense)             (None, 256)               65792     \n",
            "                                                                 \n",
            " dropout_1 (Dropout)         (None, 256)               0         \n",
            "                                                                 \n",
            " dense_2 (Dense)             (None, 10)                2570      \n",
            "                                                                 \n",
            "=================================================================\n",
            "Total params: 278,218\n",
            "Trainable params: 278,218\n",
            "Non-trainable params: 0\n",
            "_________________________________________________________________\n"
          ]
        }
      ],
      "source": [
        "# define input shape\n",
        "INPUT_SHAPE = (28, 28, 1)\n",
        "\n",
        "# define sequential model\n",
        "model = tf.keras.models.Sequential()\n",
        "# define conv-pool layers - set 1\n",
        "model.add(tf.keras.layers.Conv2D(filters=16, kernel_size=(3, 3), strides=(1, 1),\n",
        "activation='relu', padding='valid', input_shape=INPUT_SHAPE))\n",
        "model.add(tf.keras.layers.MaxPooling2D(pool_size=(2, 2)))\n",
        "# define conv-pool layers - set 2\n",
        "model.add(tf.keras.layers.Conv2D(filters=32, kernel_size=(3, 3), strides=(1, 1),\n",
        "activation='relu', padding='valid', input_shape=INPUT_SHAPE))\n",
        "model.add(tf.keras.layers.MaxPooling2D(pool_size=(2, 2)))\n",
        "\n",
        "# add flatten layer\n",
        "model.add(tf.keras.layers.Flatten())\n",
        "\n",
        "# add dense layers with some dropout\n",
        "model.add(tf.keras.layers.Dense(256, activation='relu'))\n",
        "model.add(tf.keras.layers.Dropout(rate=0.3))\n",
        "model.add(tf.keras.layers.Dense(256, activation='relu'))\n",
        "model.add(tf.keras.layers.Dropout(rate=0.3))\n",
        "\n",
        "# add output layer\n",
        "model.add(tf.keras.layers.Dense(10, activation='softmax'))\n",
        "\n",
        "# compile model\n",
        "model.compile(optimizer='adam',\n",
        "loss='sparse_categorical_crossentropy',\n",
        "metrics=['accuracy'])\n",
        "\n",
        "# view model layers\n",
        "model.summary()"
      ]
    },
    {
      "cell_type": "markdown",
      "id": "e68e6cc1",
      "metadata": {
        "id": "e68e6cc1"
      },
      "source": [
        "Model Training"
      ]
    },
    {
      "cell_type": "code",
      "execution_count": 6,
      "id": "4b8aee92",
      "metadata": {
        "colab": {
          "base_uri": "https://localhost:8080/"
        },
        "id": "4b8aee92",
        "outputId": "ab381295-90eb-4cd0-daf5-a0261bfb2d8c"
      },
      "outputs": [
        {
          "output_type": "stream",
          "name": "stdout",
          "text": [
            "Epoch 1/100\n",
            "1688/1688 [==============================] - 20s 4ms/step - loss: 0.5435 - accuracy: 0.7988 - val_loss: 0.3708 - val_accuracy: 0.8700\n",
            "Epoch 2/100\n",
            "1688/1688 [==============================] - 6s 4ms/step - loss: 0.3498 - accuracy: 0.8725 - val_loss: 0.2922 - val_accuracy: 0.8897\n",
            "Epoch 3/100\n",
            "1688/1688 [==============================] - 6s 4ms/step - loss: 0.3022 - accuracy: 0.8892 - val_loss: 0.2926 - val_accuracy: 0.8928\n",
            "Epoch 4/100\n",
            "1688/1688 [==============================] - 7s 4ms/step - loss: 0.2718 - accuracy: 0.9001 - val_loss: 0.2788 - val_accuracy: 0.8957\n",
            "Epoch 5/100\n",
            "1688/1688 [==============================] - 6s 4ms/step - loss: 0.2490 - accuracy: 0.9072 - val_loss: 0.2624 - val_accuracy: 0.9070\n",
            "Epoch 6/100\n",
            "1688/1688 [==============================] - 6s 4ms/step - loss: 0.2327 - accuracy: 0.9145 - val_loss: 0.2442 - val_accuracy: 0.9050\n",
            "Epoch 7/100\n",
            "1688/1688 [==============================] - 6s 4ms/step - loss: 0.2179 - accuracy: 0.9182 - val_loss: 0.2553 - val_accuracy: 0.9107\n",
            "Epoch 8/100\n",
            "1688/1688 [==============================] - ETA: 0s - loss: 0.2044 - accuracy: 0.9236Restoring model weights from the end of the best epoch: 6.\n",
            "1688/1688 [==============================] - 7s 4ms/step - loss: 0.2044 - accuracy: 0.9236 - val_loss: 0.2508 - val_accuracy: 0.9128\n",
            "Epoch 8: early stopping\n"
          ]
        }
      ],
      "source": [
        "EPOCHS = 100\n",
        "train_images_scaled = train_images_gr / 255.\n",
        "es_callback = tf.keras.callbacks.EarlyStopping(monitor='val_loss', patience=2,\n",
        "restore_best_weights=True,\n",
        "verbose=1)\n",
        "\n",
        "history = model.fit(train_images_scaled, train_labels,\n",
        "batch_size=32,\n",
        "callbacks=[es_callback],\n",
        "validation_split=0.1, epochs=EPOCHS,\n",
        "verbose=1)"
      ]
    },
    {
      "cell_type": "markdown",
      "id": "7ae3f619",
      "metadata": {
        "id": "7ae3f619"
      },
      "source": [
        "Ploting Learning Curves"
      ]
    },
    {
      "cell_type": "code",
      "execution_count": 7,
      "id": "356f4cfb",
      "metadata": {
        "colab": {
          "base_uri": "https://localhost:8080/",
          "height": 265
        },
        "id": "356f4cfb",
        "outputId": "deb0f390-1d86-4b3b-e9f2-57118c8b9a9f"
      },
      "outputs": [
        {
          "output_type": "display_data",
          "data": {
            "text/plain": [
              "<Figure size 720x288 with 2 Axes>"
            ],
            "image/png": "[encoded data removed]"
          },
          "metadata": {
            "needs_background": "light"
          }
        }
      ],
      "source": [
        "fig, ax = plt.subplots(1, 2, figsize=(10, 4))\n",
        "\n",
        "history_df = pd.DataFrame(history.history)\n",
        "history_df[['loss', 'val_loss']].plot(kind='line', ax=ax[0])\n",
        "history_df[['accuracy', 'val_accuracy']].plot(kind='line', ax=ax[1]);"
      ]
    },
    {
      "cell_type": "markdown",
      "id": "5ec1f67c",
      "metadata": {
        "id": "5ec1f67c"
      },
      "source": [
        "Evaluating Model Performance on Test Data"
      ]
    },
    {
      "cell_type": "code",
      "execution_count": 8,
      "id": "f239ec4e",
      "metadata": {
        "colab": {
          "base_uri": "https://localhost:8080/"
        },
        "id": "f239ec4e",
        "outputId": "08afe9fe-0432-4917-9b25-554c2aa6bc0b"
      },
      "outputs": [
        {
          "output_type": "execute_result",
          "data": {
            "text/plain": [
              "array([[2.3279384e-08, 1.6647057e-08, 5.6776805e-08, 3.7409595e-09,\n",
              "        5.4717417e-09, 1.5216933e-04, 3.2838088e-08, 4.3358767e-04,\n",
              "        8.0269665e-08, 9.9941397e-01],\n",
              "       [1.6991121e-06, 3.8547016e-14, 9.9995077e-01, 2.1286397e-09,\n",
              "        1.2812953e-06, 7.7830842e-15, 4.6311852e-05, 1.4221549e-15,\n",
              "        2.6814896e-11, 2.9862015e-15],\n",
              "       [1.3975439e-16, 1.0000000e+00, 4.5219185e-18, 1.6134057e-16,\n",
              "        1.8783783e-16, 1.5980470e-19, 2.3768396e-16, 8.9855083e-24,\n",
              "        4.9019844e-18, 9.9991687e-22],\n",
              "       [3.0905554e-12, 1.0000000e+00, 5.3867891e-13, 5.1218463e-10,\n",
              "        2.1571667e-10, 2.2242757e-14, 2.6031058e-11, 8.7927724e-17,\n",
              "        8.2821445e-14, 2.8718883e-15],\n",
              "       [3.4181854e-01, 2.2509159e-06, 2.6247548e-02, 1.5749896e-03,\n",
              "        1.4558267e-03, 3.3740255e-07, 6.2887937e-01, 3.6608270e-08,\n",
              "        2.1096261e-05, 5.8159625e-08]], dtype=float32)"
            ]
          },
          "metadata": {},
          "execution_count": 8
        }
      ],
      "source": [
        "test_images_scaled = test_images_gr / 255.\n",
        "predictions = model.predict(test_images_scaled)\n",
        "predictions[:5]"
      ]
    },
    {
      "cell_type": "code",
      "execution_count": 9,
      "id": "9001b443",
      "metadata": {
        "colab": {
          "base_uri": "https://localhost:8080/"
        },
        "id": "9001b443",
        "outputId": "b58ea8c8-a9a3-4d82-fdd8-b9bb48fd1699"
      },
      "outputs": [
        {
          "output_type": "execute_result",
          "data": {
            "text/plain": [
              "array([9, 2, 1, 1, 6])"
            ]
          },
          "metadata": {},
          "execution_count": 9
        }
      ],
      "source": [
        "prediction_labels = np.argmax(predictions, axis=1)\n",
        "prediction_labels[:5]"
      ]
    },
    {
      "cell_type": "code",
      "execution_count": 10,
      "id": "1f17a653",
      "metadata": {
        "colab": {
          "base_uri": "https://localhost:8080/",
          "height": 658
        },
        "id": "1f17a653",
        "outputId": "e604b001-8587-4f26-b093-fe9d4439bde0"
      },
      "outputs": [
        {
          "output_type": "stream",
          "name": "stdout",
          "text": [
            "              precision    recall  f1-score   support\n",
            "\n",
            " T-shirt/top       0.84      0.87      0.86      1000\n",
            "     Trouser       1.00      0.97      0.99      1000\n",
            "    Pullover       0.85      0.86      0.86      1000\n",
            "       Dress       0.88      0.94      0.91      1000\n",
            "        Coat       0.89      0.76      0.82      1000\n",
            "      Sandal       0.98      0.98      0.98      1000\n",
            "       Shirt       0.70      0.73      0.71      1000\n",
            "     Sneaker       0.97      0.91      0.94      1000\n",
            "         Bag       0.97      0.98      0.98      1000\n",
            "  Ankle boot       0.92      0.98      0.95      1000\n",
            "\n",
            "    accuracy                           0.90     10000\n",
            "   macro avg       0.90      0.90      0.90     10000\n",
            "weighted avg       0.90      0.90      0.90     10000\n",
            "\n"
          ]
        },
        {
          "output_type": "execute_result",
          "data": {
            "text/plain": [
              "             T-shirt/top  Trouser  Pullover  Dress  Coat  Sandal  Shirt  \\\n",
              "T-shirt/top          873        0        18     25     2       2     70   \n",
              "Trouser                0      974         0     16     2       0      6   \n",
              "Pullover              10        0       861      8    40       0     81   \n",
              "Dress                 11        0        10    937     7       0     31   \n",
              "Coat                   2        0        68     47   757       0    126   \n",
              "Sandal                 0        0         0      0     0     981      0   \n",
              "Shirt                134        1        52     28    43       0    730   \n",
              "Sneaker                0        0         0      0     0      12      0   \n",
              "Bag                    3        0         4      3     1       3      0   \n",
              "Ankle boot             1        0         0      0     0       5      0   \n",
              "\n",
              "             Sneaker  Bag  Ankle boot  \n",
              "T-shirt/top        0   10           0  \n",
              "Trouser            0    2           0  \n",
              "Pullover           0    0           0  \n",
              "Dress              0    4           0  \n",
              "Coat               0    0           0  \n",
              "Sandal            12    1           6  \n",
              "Shirt              0   12           0  \n",
              "Sneaker          906    0          82  \n",
              "Bag                2  984           0  \n",
              "Ankle boot        11    0         983  "
            ],
            "text/html": [
              "\n",
              "  <div id=\"df-a6153a46-143e-496e-86d6-103cce5167d7\">\n",
              "    <div class=\"colab-df-container\">\n",
              "      <div>\n",
              "<style scoped>\n",
              "    .dataframe tbody tr th:only-of-type {\n",
              "        vertical-align: middle;\n",
              "    }\n",
              "\n",
              "    .dataframe tbody tr th {\n",
              "        vertical-align: top;\n",
              "    }\n",
              "\n",
              "    .dataframe thead th {\n",
              "        text-align: right;\n",
              "    }\n",
              "</style>\n",
              "<table border=\"1\" class=\"dataframe\">\n",
              "  <thead>\n",
              "    <tr style=\"text-align: right;\">\n",
              "      <th></th>\n",
              "      <th>T-shirt/top</th>\n",
              "      <th>Trouser</th>\n",
              "      <th>Pullover</th>\n",
              "      <th>Dress</th>\n",
              "      <th>Coat</th>\n",
              "      <th>Sandal</th>\n",
              "      <th>Shirt</th>\n",
              "      <th>Sneaker</th>\n",
              "      <th>Bag</th>\n",
              "      <th>Ankle boot</th>\n",
              "    </tr>\n",
              "  </thead>\n",
              "  <tbody>\n",
              "    <tr>\n",
              "      <th>T-shirt/top</th>\n",
              "      <td>873</td>\n",
              "      <td>0</td>\n",
              "      <td>18</td>\n",
              "      <td>25</td>\n",
              "      <td>2</td>\n",
              "      <td>2</td>\n",
              "      <td>70</td>\n",
              "      <td>0</td>\n",
              "      <td>10</td>\n",
              "      <td>0</td>\n",
              "    </tr>\n",
              "    <tr>\n",
              "      <th>Trouser</th>\n",
              "      <td>0</td>\n",
              "      <td>974</td>\n",
              "      <td>0</td>\n",
              "      <td>16</td>\n",
              "      <td>2</td>\n",
              "      <td>0</td>\n",
              "      <td>6</td>\n",
              "      <td>0</td>\n",
              "      <td>2</td>\n",
              "      <td>0</td>\n",
              "    </tr>\n",
              "    <tr>\n",
              "      <th>Pullover</th>\n",
              "      <td>10</td>\n",
              "      <td>0</td>\n",
              "      <td>861</td>\n",
              "      <td>8</td>\n",
              "      <td>40</td>\n",
              "      <td>0</td>\n",
              "      <td>81</td>\n",
              "      <td>0</td>\n",
              "      <td>0</td>\n",
              "      <td>0</td>\n",
              "    </tr>\n",
              "    <tr>\n",
              "      <th>Dress</th>\n",
              "      <td>11</td>\n",
              "      <td>0</td>\n",
              "      <td>10</td>\n",
              "      <td>937</td>\n",
              "      <td>7</td>\n",
              "      <td>0</td>\n",
              "      <td>31</td>\n",
              "      <td>0</td>\n",
              "      <td>4</td>\n",
              "      <td>0</td>\n",
              "    </tr>\n",
              "    <tr>\n",
              "      <th>Coat</th>\n",
              "      <td>2</td>\n",
              "      <td>0</td>\n",
              "      <td>68</td>\n",
              "      <td>47</td>\n",
              "      <td>757</td>\n",
              "      <td>0</td>\n",
              "      <td>126</td>\n",
              "      <td>0</td>\n",
              "      <td>0</td>\n",
              "      <td>0</td>\n",
              "    </tr>\n",
              "    <tr>\n",
              "      <th>Sandal</th>\n",
              "      <td>0</td>\n",
              "      <td>0</td>\n",
              "      <td>0</td>\n",
              "      <td>0</td>\n",
              "      <td>0</td>\n",
              "      <td>981</td>\n",
              "      <td>0</td>\n",
              "      <td>12</td>\n",
              "      <td>1</td>\n",
              "      <td>6</td>\n",
              "    </tr>\n",
              "    <tr>\n",
              "      <th>Shirt</th>\n",
              "      <td>134</td>\n",
              "      <td>1</td>\n",
              "      <td>52</td>\n",
              "      <td>28</td>\n",
              "      <td>43</td>\n",
              "      <td>0</td>\n",
              "      <td>730</td>\n",
              "      <td>0</td>\n",
              "      <td>12</td>\n",
              "      <td>0</td>\n",
              "    </tr>\n",
              "    <tr>\n",
              "      <th>Sneaker</th>\n",
              "      <td>0</td>\n",
              "      <td>0</td>\n",
              "      <td>0</td>\n",
              "      <td>0</td>\n",
              "      <td>0</td>\n",
              "      <td>12</td>\n",
              "      <td>0</td>\n",
              "      <td>906</td>\n",
              "      <td>0</td>\n",
              "      <td>82</td>\n",
              "    </tr>\n",
              "    <tr>\n",
              "      <th>Bag</th>\n",
              "      <td>3</td>\n",
              "      <td>0</td>\n",
              "      <td>4</td>\n",
              "      <td>3</td>\n",
              "      <td>1</td>\n",
              "      <td>3</td>\n",
              "      <td>0</td>\n",
              "      <td>2</td>\n",
              "      <td>984</td>\n",
              "      <td>0</td>\n",
              "    </tr>\n",
              "    <tr>\n",
              "      <th>Ankle boot</th>\n",
              "      <td>1</td>\n",
              "      <td>0</td>\n",
              "      <td>0</td>\n",
              "      <td>0</td>\n",
              "      <td>0</td>\n",
              "      <td>5</td>\n",
              "      <td>0</td>\n",
              "      <td>11</td>\n",
              "      <td>0</td>\n",
              "      <td>983</td>\n",
              "    </tr>\n",
              "  </tbody>\n",
              "</table>\n",
              "</div>\n",
              "      <button class=\"colab-df-convert\" onclick=\"convertToInteractive('df-a6153a46-143e-496e-86d6-103cce5167d7')\"\n",
              "              title=\"Convert this dataframe to an interactive table.\"\n",
              "              style=\"display:none;\">\n",
              "        \n",
              "  <svg xmlns=\"http://www.w3.org/2000/svg\" height=\"24px\"viewBox=\"0 0 24 24\"\n",
              "       width=\"24px\">\n",
              "    <path d=\"M0 0h24v24H0V0z\" fill=\"none\"/>\n",
              "    <path d=\"M18.56 5.44l.94 2.06.94-2.06 2.06-.94-2.06-.94-.94-2.06-.94 2.06-2.06.94zm-11 1L8.5 8.5l.94-2.06 2.06-.94-2.06-.94L8.5 2.5l-.94 2.06-2.06.94zm10 10l.94 2.06.94-2.06 2.06-.94-2.06-.94-.94-2.06-.94 2.06-2.06.94z\"/><path d=\"M17.41 7.96l-1.37-1.37c-.4-.4-.92-.59-1.43-.59-.52 0-1.04.2-1.43.59L10.3 9.45l-7.72 7.72c-.78.78-.78 2.05 0 2.83L4 21.41c.39.39.9.59 1.41.59.51 0 1.02-.2 1.41-.59l7.78-7.78 2.81-2.81c.8-.78.8-2.07 0-2.86zM5.41 20L4 18.59l7.72-7.72 1.47 1.35L5.41 20z\"/>\n",
              "  </svg>\n",
              "      </button>\n",
              "      \n",
              "  <style>\n",
              "    .colab-df-container {\n",
              "      display:flex;\n",
              "      flex-wrap:wrap;\n",
              "      gap: 12px;\n",
              "    }\n",
              "\n",
              "    .colab-df-convert {\n",
              "      background-color: #E8F0FE;\n",
              "      border: none;\n",
              "      border-radius: 50%;\n",
              "      cursor: pointer;\n",
              "      display: none;\n",
              "      fill: #1967D2;\n",
              "      height: 32px;\n",
              "      padding: 0 0 0 0;\n",
              "      width: 32px;\n",
              "    }\n",
              "\n",
              "    .colab-df-convert:hover {\n",
              "      background-color: #E2EBFA;\n",
              "      box-shadow: 0px 1px 2px rgba(60, 64, 67, 0.3), 0px 1px 3px 1px rgba(60, 64, 67, 0.15);\n",
              "      fill: #174EA6;\n",
              "    }\n",
              "\n",
              "    [theme=dark] .colab-df-convert {\n",
              "      background-color: #3B4455;\n",
              "      fill: #D2E3FC;\n",
              "    }\n",
              "\n",
              "    [theme=dark] .colab-df-convert:hover {\n",
              "      background-color: #434B5C;\n",
              "      box-shadow: 0px 1px 3px 1px rgba(0, 0, 0, 0.15);\n",
              "      filter: drop-shadow(0px 1px 2px rgba(0, 0, 0, 0.3));\n",
              "      fill: #FFFFFF;\n",
              "    }\n",
              "  </style>\n",
              "\n",
              "      <script>\n",
              "        const buttonEl =\n",
              "          document.querySelector('#df-a6153a46-143e-496e-86d6-103cce5167d7 button.colab-df-convert');\n",
              "        buttonEl.style.display =\n",
              "          google.colab.kernel.accessAllowed ? 'block' : 'none';\n",
              "\n",
              "        async function convertToInteractive(key) {\n",
              "          const element = document.querySelector('#df-a6153a46-143e-496e-86d6-103cce5167d7');\n",
              "          const dataTable =\n",
              "            await google.colab.kernel.invokeFunction('convertToInteractive',\n",
              "                                                     [key], {});\n",
              "          if (!dataTable) return;\n",
              "\n",
              "          const docLinkHtml = 'Like what you see? Visit the ' +\n",
              "            '<a target=\"_blank\" href=https://colab.research.google.com/notebooks/data_table.ipynb>data table notebook</a>'\n",
              "            + ' to learn more about interactive tables.';\n",
              "          element.innerHTML = '';\n",
              "          dataTable['output_type'] = 'display_data';\n",
              "          await google.colab.output.renderOutput(dataTable, element);\n",
              "          const docLink = document.createElement('div');\n",
              "          docLink.innerHTML = docLinkHtml;\n",
              "          element.appendChild(docLink);\n",
              "        }\n",
              "      </script>\n",
              "    </div>\n",
              "  </div>\n",
              "  "
            ]
          },
          "metadata": {},
          "execution_count": 10
        }
      ],
      "source": [
        "from sklearn.metrics import confusion_matrix, classification_report\n",
        "import pandas as pd\n",
        "\n",
        "print(classification_report(test_labels, prediction_labels, target_names=class_names))\n",
        "pd.DataFrame(confusion_matrix(test_labels, prediction_labels), index=class_names, columns=class_names)"
      ]
    },
    {
      "cell_type": "code",
      "execution_count": 11,
      "id": "f459fcb2",
      "metadata": {
        "colab": {
          "base_uri": "https://localhost:8080/"
        },
        "id": "f459fcb2",
        "outputId": "2ff9fcf6-733e-4891-8c02-962bc0771584"
      },
      "outputs": [
        {
          "output_type": "stream",
          "name": "stdout",
          "text": [
            "[9 2 1 1 6 1 4 6 5 7 4 5 7 3 4 1 2 4 8 0 2 5 7 9 1 4 6 0 9 3 8 8 3 3 8 0 7\n",
            " 5 7 9 6 1 3 7 6 7 2 1 2 2 4 4 5 8 2 2 8 4 8 0 7 7 8 5 1 1 2 3 9 8 7 0 2 6\n",
            " 2 3 1 2 8 4 1 8 5 9 5 0 3 2 0 6 5 3 6 7 1 8 0 1 4 2]\n"
          ]
        },
        {
          "output_type": "execute_result",
          "data": {
            "text/plain": [
              "array([9, 9, 9], dtype=uint8)"
            ]
          },
          "metadata": {},
          "execution_count": 11
        }
      ],
      "source": [
        "print(test_labels[:100])\n",
        "test_labels\n",
        "test_image_idxs = [0, 23, 28]\n",
        "test_labels[test_image_idxs]"
      ]
    },
    {
      "cell_type": "code",
      "execution_count": 12,
      "id": "b7bf10cb",
      "metadata": {
        "id": "b7bf10cb"
      },
      "outputs": [],
      "source": [
        "layer_outputs = [layer.output for layer in model.layers]\n",
        "activation_model = tf.keras.models.Model(inputs=model.input, outputs=layer_outputs)"
      ]
    },
    {
      "cell_type": "code",
      "execution_count": 13,
      "id": "34fc960a",
      "metadata": {
        "colab": {
          "base_uri": "https://localhost:8080/",
          "height": 369
        },
        "id": "34fc960a",
        "outputId": "e9432e28-2676-48ca-afbd-ae720a1a9f64"
      },
      "outputs": [
        {
          "output_type": "display_data",
          "data": {
            "text/plain": [
              "<Figure size 576x360 with 12 Axes>"
            ],
            "image/png": "[encoded data removed]"
          },
          "metadata": {
            "needs_background": "light"
          }
        }
      ],
      "source": [
        "f, axarr = plt.subplots(3,4, figsize=(8, 5))\n",
        "\n",
        "FIRST_IMAGE=0\n",
        "SECOND_IMAGE=23\n",
        "THIRD_IMAGE=28\n",
        "CONVOLUTION_NUMBER = 13\n",
        "\n",
        "for x in range(0,4):\n",
        " f1 = activation_model.predict(test_images_scaled[FIRST_IMAGE].reshape(1, 28, 28, 1))[x]\n",
        " axarr[0,x].imshow(f1[0, : , :, CONVOLUTION_NUMBER])\n",
        " axarr[0,x].grid(False)\n",
        " axarr[0,x].set_title(class_names[test_labels[FIRST_IMAGE]])\n",
        " f2 = activation_model.predict(test_images_scaled[SECOND_IMAGE].reshape(1, 28, 28, 1))[x]\n",
        " axarr[1,x].imshow(f2[0, : , :, CONVOLUTION_NUMBER])\n",
        " axarr[1,x].grid(False)\n",
        " axarr[1,x].set_title(class_names[test_labels[SECOND_IMAGE]])\n",
        " f3 = activation_model.predict(test_images_scaled[THIRD_IMAGE].reshape(1, 28, 28, 1))[x]\n",
        " axarr[2,x].imshow(f3[0, : , :, CONVOLUTION_NUMBER])\n",
        " axarr[2,x].grid(False)\n",
        " axarr[2,x].set_title(class_names[test_labels[THIRD_IMAGE]])\n",
        " plt.tight_layout()"
      ]
    },
    {
      "cell_type": "code",
      "execution_count": 14,
      "id": "8f82009e",
      "metadata": {
        "colab": {
          "base_uri": "https://localhost:8080/",
          "height": 369
        },
        "id": "8f82009e",
        "outputId": "72a26002-c800-49cd-8587-31ab64f03c15"
      },
      "outputs": [
        {
          "output_type": "display_data",
          "data": {
            "text/plain": [
              "<Figure size 576x360 with 12 Axes>"
            ],
            "image/png": "[encoded data removed]"
          },
          "metadata": {
            "needs_background": "light"
          }
        }
      ],
      "source": [
        "f, axarr = plt.subplots(3,4, figsize=(8, 5))\n",
        "\n",
        "FIRST_IMAGE=2\n",
        "SECOND_IMAGE=3\n",
        "THIRD_IMAGE=5\n",
        "CONVOLUTION_NUMBER = 13\n",
        "\n",
        "for x in range(0,4):\n",
        " f1 = activation_model.predict(test_images_scaled[FIRST_IMAGE].reshape(1, 28, 28, 1))[x]\n",
        " axarr[0,x].imshow(f1[0, : , :, CONVOLUTION_NUMBER], cmap='binary_r')\n",
        " axarr[0,x].grid(False)\n",
        " axarr[0,x].set_title(class_names[test_labels[FIRST_IMAGE]])\n",
        " f2 = activation_model.predict(test_images_scaled[SECOND_IMAGE].reshape(1, 28, 28, 1))[x]\n",
        " axarr[1,x].imshow(f2[0, : , :, CONVOLUTION_NUMBER], cmap='binary_r')\n",
        " axarr[1,x].grid(False)\n",
        " axarr[1,x].set_title(class_names[test_labels[SECOND_IMAGE]])\n",
        " f3 = activation_model.predict(test_images_scaled[THIRD_IMAGE].reshape(1, 28, 28, 1))[x]\n",
        " axarr[2,x].imshow(f3[0, : , :, CONVOLUTION_NUMBER], cmap='binary_r')\n",
        " axarr[2,x].grid(False)\n",
        " axarr[2,x].set_title(class_names[test_labels[THIRD_IMAGE]])\n",
        " plt.tight_layout()"
      ]
    },
    {
      "cell_type": "code",
      "execution_count": 15,
      "id": "fd3080d2",
      "metadata": {
        "colab": {
          "base_uri": "https://localhost:8080/",
          "height": 369
        },
        "id": "fd3080d2",
        "outputId": "16198c3b-bd69-40fb-fc79-a1ba8cbd3f60"
      },
      "outputs": [
        {
          "output_type": "display_data",
          "data": {
            "text/plain": [
              "<Figure size 576x360 with 12 Axes>"
            ],
            "image/png": "[encoded data removed]"
          },
          "metadata": {
            "needs_background": "light"
          }
        }
      ],
      "source": [
        "f, axarr = plt.subplots(3,4, figsize=(8, 5))\n",
        "\n",
        "FIRST_IMAGE=2\n",
        "SECOND_IMAGE=3\n",
        "THIRD_IMAGE=5\n",
        "CONVOLUTION_NUMBER = 3\n",
        "\n",
        "for x in range(0,4):\n",
        " f1 = activation_model.predict(test_images_scaled[FIRST_IMAGE].reshape(1, 28, 28, 1))[x]\n",
        " axarr[0,x].imshow(f1[0, : , :, CONVOLUTION_NUMBER], cmap='binary_r')\n",
        " axarr[0,x].grid(False)\n",
        " axarr[0,x].set_title(class_names[test_labels[FIRST_IMAGE]])\n",
        " f2 = activation_model.predict(test_images_scaled[SECOND_IMAGE].reshape(1, 28, 28, 1))[x]\n",
        " axarr[1,x].imshow(f2[0, : , :, CONVOLUTION_NUMBER], cmap='binary_r')\n",
        " axarr[1,x].grid(False)\n",
        " axarr[1,x].set_title(class_names[test_labels[SECOND_IMAGE]])\n",
        " f3 = activation_model.predict(test_images_scaled[THIRD_IMAGE].reshape(1, 28, 28, 1))[x]\n",
        " axarr[2,x].imshow(f3[0, : , :, CONVOLUTION_NUMBER], cmap='binary_r')\n",
        " axarr[2,x].grid(False)\n",
        " axarr[2,x].set_title(class_names[test_labels[THIRD_IMAGE]])\n",
        " plt.tight_layout()"
      ]
    },
    {
      "cell_type": "markdown",
      "id": "d0b58038",
      "metadata": {
        "id": "d0b58038"
      },
      "source": [
        "Fine-tuning a pre-trained VGG-19 CNN Model"
      ]
    },
    {
      "cell_type": "markdown",
      "id": "fe75a0c5",
      "metadata": {
        "id": "fe75a0c5"
      },
      "source": [
        "Reshaping Image Data for Modeling"
      ]
    },
    {
      "cell_type": "code",
      "execution_count": 16,
      "id": "ed33eb6f",
      "metadata": {
        "colab": {
          "base_uri": "https://localhost:8080/"
        },
        "id": "ed33eb6f",
        "outputId": "13a6d051-d919-4a21-bfb6-c79e2e98255d"
      },
      "outputs": [
        {
          "output_type": "stream",
          "name": "stdout",
          "text": [
            "\n",
            "Train_images.shape: (60000, 28, 28, 3), of uint8\n",
            "Test_images.shape: (10000, 28, 28, 3), of uint8\n"
          ]
        }
      ],
      "source": [
        "train_images_3ch = np.stack([train_images]*3, axis=-1)\n",
        "test_images_3ch = np.stack([test_images]*3, axis=-1)\n",
        "\n",
        "print('\\nTrain_images.shape: {}, of {}'.format(train_images_3ch.shape, train_images_3ch.dtype))\n",
        "print('Test_images.shape: {}, of {}'.format(test_images_3ch.shape, test_images_3ch.dtype))"
      ]
    },
    {
      "cell_type": "markdown",
      "id": "8da87755",
      "metadata": {
        "id": "8da87755"
      },
      "source": [
        "Resizing Image Data for Modeling"
      ]
    },
    {
      "cell_type": "code",
      "execution_count": 17,
      "id": "f3eaffe1",
      "metadata": {
        "id": "f3eaffe1"
      },
      "outputs": [],
      "source": [
        "import cv2\n",
        "\n",
        "def resize_image_array(img, img_size_dims):\n",
        " img = cv2.resize(img, dsize=img_size_dims,\n",
        " interpolation=cv2.INTER_CUBIC)\n",
        " img = np.array(img, dtype=np.float32)\n",
        " return img"
      ]
    },
    {
      "cell_type": "code",
      "execution_count": 18,
      "id": "fdd5ba45",
      "metadata": {
        "colab": {
          "base_uri": "https://localhost:8080/"
        },
        "id": "fdd5ba45",
        "outputId": "51d63953-4e2b-40b8-c756-01666c8081e8"
      },
      "outputs": [
        {
          "output_type": "stream",
          "name": "stdout",
          "text": [
            "\n",
            "Train_images.shape: (60000, 32, 32, 3), of float32\n",
            "Test_images.shape: (10000, 32, 32, 3), of float32\n",
            "CPU times: user 1.55 s, sys: 657 ms, total: 2.2 s\n",
            "Wall time: 2.26 s\n"
          ]
        }
      ],
      "source": [
        "%%time\n",
        "\n",
        "IMG_DIMS = (32, 32)\n",
        "\n",
        "train_images_3ch = np.array([resize_image_array(img, img_size_dims=IMG_DIMS) for img in train_images_3ch])\n",
        "test_images_3ch = np.array([resize_image_array(img, img_size_dims=IMG_DIMS) for img in test_images_3ch])\n",
        "\n",
        "print('\\nTrain_images.shape: {}, of {}'.format(train_images_3ch.shape, train_images_3ch.dtype))\n",
        "print('Test_images.shape: {}, of {}'.format(test_images_3ch.shape, test_images_3ch.dtype))"
      ]
    },
    {
      "cell_type": "markdown",
      "id": "14058437",
      "metadata": {
        "id": "14058437"
      },
      "source": [
        "Building our CNN model architecture customizing the VGG-19 model."
      ]
    },
    {
      "cell_type": "code",
      "execution_count": 19,
      "id": "0d59f4a3",
      "metadata": {
        "colab": {
          "base_uri": "https://localhost:8080/"
        },
        "id": "0d59f4a3",
        "outputId": "893d3776-d73c-416b-8ad5-8b89469969a4"
      },
      "outputs": [
        {
          "output_type": "stream",
          "name": "stdout",
          "text": [
            "Downloading data from https://storage.googleapis.com/tensorflow/keras-applications/vgg19/vgg19_weights_tf_dim_ordering_tf_kernels_notop.h5\n",
            "80142336/80134624 [==============================] - 0s 0us/step\n",
            "80150528/80134624 [==============================] - 0s 0us/step\n",
            "Model: \"vgg19\"\n",
            "_________________________________________________________________\n",
            " Layer (type)                Output Shape              Param #   \n",
            "=================================================================\n",
            " input_1 (InputLayer)        [(None, 32, 32, 3)]       0         \n",
            "                                                                 \n",
            " block1_conv1 (Conv2D)       (None, 32, 32, 64)        1792      \n",
            "                                                                 \n",
            " block1_conv2 (Conv2D)       (None, 32, 32, 64)        36928     \n",
            "                                                                 \n",
            " block1_pool (MaxPooling2D)  (None, 16, 16, 64)        0         \n",
            "                                                                 \n",
            " block2_conv1 (Conv2D)       (None, 16, 16, 128)       73856     \n",
            "                                                                 \n",
            " block2_conv2 (Conv2D)       (None, 16, 16, 128)       147584    \n",
            "                                                                 \n",
            " block2_pool (MaxPooling2D)  (None, 8, 8, 128)         0         \n",
            "                                                                 \n",
            " block3_conv1 (Conv2D)       (None, 8, 8, 256)         295168    \n",
            "                                                                 \n",
            " block3_conv2 (Conv2D)       (None, 8, 8, 256)         590080    \n",
            "                                                                 \n",
            " block3_conv3 (Conv2D)       (None, 8, 8, 256)         590080    \n",
            "                                                                 \n",
            " block3_conv4 (Conv2D)       (None, 8, 8, 256)         590080    \n",
            "                                                                 \n",
            " block3_pool (MaxPooling2D)  (None, 4, 4, 256)         0         \n",
            "                                                                 \n",
            " block4_conv1 (Conv2D)       (None, 4, 4, 512)         1180160   \n",
            "                                                                 \n",
            " block4_conv2 (Conv2D)       (None, 4, 4, 512)         2359808   \n",
            "                                                                 \n",
            " block4_conv3 (Conv2D)       (None, 4, 4, 512)         2359808   \n",
            "                                                                 \n",
            " block4_conv4 (Conv2D)       (None, 4, 4, 512)         2359808   \n",
            "                                                                 \n",
            " block4_pool (MaxPooling2D)  (None, 2, 2, 512)         0         \n",
            "                                                                 \n",
            " block5_conv1 (Conv2D)       (None, 2, 2, 512)         2359808   \n",
            "                                                                 \n",
            " block5_conv2 (Conv2D)       (None, 2, 2, 512)         2359808   \n",
            "                                                                 \n",
            " block5_conv3 (Conv2D)       (None, 2, 2, 512)         2359808   \n",
            "                                                                 \n",
            " block5_conv4 (Conv2D)       (None, 2, 2, 512)         2359808   \n",
            "                                                                 \n",
            " block5_pool (MaxPooling2D)  (None, 1, 1, 512)         0         \n",
            "                                                                 \n",
            "=================================================================\n",
            "Total params: 20,024,384\n",
            "Trainable params: 20,024,384\n",
            "Non-trainable params: 0\n",
            "_________________________________________________________________\n"
          ]
        }
      ],
      "source": [
        "# define input shape\n",
        "INPUT_SHAPE = (32, 32, 3)\n",
        "\n",
        "# get the VGG19 model\n",
        "vgg_layers = tf.keras.applications.vgg19.VGG19(weights='imagenet', include_top=False,\n",
        "input_shape=INPUT_SHAPE)\n",
        "\n",
        "vgg_layers.summary()"
      ]
    },
    {
      "cell_type": "markdown",
      "id": "c236c311",
      "metadata": {
        "id": "c236c311"
      },
      "source": [
        "Set layers to trainable to enable fine-tuning"
      ]
    },
    {
      "cell_type": "code",
      "execution_count": 20,
      "id": "6713c5ba",
      "metadata": {
        "colab": {
          "base_uri": "https://localhost:8080/"
        },
        "id": "6713c5ba",
        "outputId": "f790e436-4982-414b-828f-0aeb5af7637c"
      },
      "outputs": [
        {
          "output_type": "stream",
          "name": "stdout",
          "text": [
            "<keras.engine.input_layer.InputLayer object at 0x7fa952296450> True\n",
            "<keras.layers.convolutional.Conv2D object at 0x7fa9f955f310> True\n",
            "<keras.layers.convolutional.Conv2D object at 0x7fa95136de90> True\n",
            "<keras.layers.pooling.MaxPooling2D object at 0x7fa95128dfd0> True\n",
            "<keras.layers.convolutional.Conv2D object at 0x7fa9512aba10> True\n",
            "<keras.layers.convolutional.Conv2D object at 0x7fa951308650> True\n",
            "<keras.layers.pooling.MaxPooling2D object at 0x7fa9525c0b90> True\n",
            "<keras.layers.convolutional.Conv2D object at 0x7fa9511d8690> True\n",
            "<keras.layers.convolutional.Conv2D object at 0x7fa9511c8c50> True\n",
            "<keras.layers.convolutional.Conv2D object at 0x7fa95130d610> True\n",
            "<keras.layers.convolutional.Conv2D object at 0x7fa951a0bb10> True\n",
            "<keras.layers.pooling.MaxPooling2D object at 0x7fa951348f50> True\n",
            "<keras.layers.convolutional.Conv2D object at 0x7fa9512369d0> True\n",
            "<keras.layers.convolutional.Conv2D object at 0x7fa951221c10> True\n",
            "<keras.layers.convolutional.Conv2D object at 0x7fa95133f890> True\n",
            "<keras.layers.convolutional.Conv2D object at 0x7fa951348ed0> True\n",
            "<keras.layers.pooling.MaxPooling2D object at 0x7fa95229a8d0> True\n",
            "<keras.layers.convolutional.Conv2D object at 0x7fa9512825d0> True\n",
            "<keras.layers.convolutional.Conv2D object at 0x7fa951236b50> True\n",
            "<keras.layers.convolutional.Conv2D object at 0x7fa951236650> True\n",
            "<keras.layers.convolutional.Conv2D object at 0x7fa9512c5c10> True\n",
            "<keras.layers.pooling.MaxPooling2D object at 0x7fa9512f6490> True\n"
          ]
        }
      ],
      "source": [
        "# Fine-tune all the layers\n",
        "for layer in vgg_layers.layers:\n",
        " layer.trainable = True\n",
        "\n",
        "# Check the trainable status of the individual layers\n",
        "for layer in vgg_layers.layers:\n",
        " print(layer, layer.trainable)"
      ]
    },
    {
      "cell_type": "markdown",
      "id": "246fb883",
      "metadata": {
        "id": "246fb883"
      },
      "source": [
        "Building CNN model on top of VGG19"
      ]
    },
    {
      "cell_type": "code",
      "execution_count": 21,
      "id": "ed236516",
      "metadata": {
        "colab": {
          "base_uri": "https://localhost:8080/"
        },
        "id": "ed236516",
        "outputId": "8bdf0166-fad1-4f67-9344-6b2aeb92b074"
      },
      "outputs": [
        {
          "output_type": "stream",
          "name": "stdout",
          "text": [
            "Model: \"sequential_1\"\n",
            "_________________________________________________________________\n",
            " Layer (type)                Output Shape              Param #   \n",
            "=================================================================\n",
            " vgg19 (Functional)          (None, 1, 1, 512)         20024384  \n",
            "                                                                 \n",
            " flatten_1 (Flatten)         (None, 512)               0         \n",
            "                                                                 \n",
            " dense_3 (Dense)             (None, 256)               131328    \n",
            "                                                                 \n",
            " dropout_2 (Dropout)         (None, 256)               0         \n",
            "                                                                 \n",
            " dense_4 (Dense)             (None, 256)               65792     \n",
            "                                                                 \n",
            " dropout_3 (Dropout)         (None, 256)               0         \n",
            "                                                                 \n",
            " dense_5 (Dense)             (None, 10)                2570      \n",
            "                                                                 \n",
            "=================================================================\n",
            "Total params: 20,224,074\n",
            "Trainable params: 20,224,074\n",
            "Non-trainable params: 0\n",
            "_________________________________________________________________\n"
          ]
        }
      ],
      "source": [
        "# define sequential model\n",
        "model = tf.keras.models.Sequential()\n",
        "\n",
        "# Add the vgg convolutional base model\n",
        "model.add(vgg_layers)\n",
        "\n",
        "# add flatten layer\n",
        "model.add(tf.keras.layers.Flatten())\n",
        "\n",
        "# add dense layers with some dropout\n",
        "model.add(tf.keras.layers.Dense(256, activation='relu'))\n",
        "model.add(tf.keras.layers.Dropout(rate=0.3))\n",
        "model.add(tf.keras.layers.Dense(256, activation='relu'))\n",
        "model.add(tf.keras.layers.Dropout(rate=0.3))\n",
        "\n",
        "# add output layer\n",
        "model.add(tf.keras.layers.Dense(10, activation='softmax'))\n",
        "\n",
        "# compile model\n",
        "model.compile(optimizer=tf.keras.optimizers.Adam(learning_rate=2e-5),\n",
        "loss='sparse_categorical_crossentropy',\n",
        "metrics=['accuracy'])\n",
        "\n",
        "# view model layers\n",
        "model.summary()"
      ]
    },
    {
      "cell_type": "code",
      "execution_count": 27,
      "id": "b29ca602",
      "metadata": {
        "colab": {
          "base_uri": "https://localhost:8080/"
        },
        "id": "b29ca602",
        "outputId": "b04b5aa1-0286-4d2d-d535-9b66fb30b1da"
      },
      "outputs": [
        {
          "output_type": "stream",
          "name": "stdout",
          "text": [
            "Epoch 1/100\n",
            "1688/1688 [==============================] - 69s 41ms/step - loss: 0.1792 - accuracy: 0.9384 - val_loss: 0.2030 - val_accuracy: 0.9298\n",
            "Epoch 2/100\n",
            "1688/1688 [==============================] - 65s 39ms/step - loss: 0.1582 - accuracy: 0.9444 - val_loss: 0.2067 - val_accuracy: 0.9298\n",
            "Epoch 3/100\n",
            "1687/1688 [============================>.] - ETA: 0s - loss: 0.1418 - accuracy: 0.9502Restoring model weights from the end of the best epoch: 1.\n",
            "1688/1688 [==============================] - 65s 39ms/step - loss: 0.1418 - accuracy: 0.9502 - val_loss: 0.2116 - val_accuracy: 0.9287\n",
            "Epoch 3: early stopping\n"
          ]
        }
      ],
      "source": [
        "EPOCHS = 100\n",
        "train_images_3ch_scaled = train_images_3ch / 255.\n",
        "es_callback = tf.keras.callbacks.EarlyStopping(monitor='val_loss', patience=2,\n",
        "restore_best_weights=True,\n",
        "verbose=1)\n",
        "\n",
        "history = model.fit(train_images_3ch_scaled, train_labels,\n",
        "batch_size=32,\n",
        "callbacks=[es_callback],\n",
        "validation_split=0.1, epochs=EPOCHS,\n",
        "verbose=1)"
      ]
    },
    {
      "cell_type": "markdown",
      "id": "f845c9e0",
      "metadata": {
        "id": "f845c9e0"
      },
      "source": [
        ""
      ]
    },
    {
      "cell_type": "code",
      "execution_count": 28,
      "id": "a090a60c",
      "metadata": {
        "id": "a090a60c"
      },
      "outputs": [],
      "source": [
        ""
      ]
    },
    {
      "cell_type": "markdown",
      "id": "e8442c02",
      "metadata": {
        "id": "e8442c02"
      },
      "source": [
        "Evaluating Model Performance on Test Data"
      ]
    },
    {
      "cell_type": "code",
      "execution_count": null,
      "id": "4e567136",
      "metadata": {
        "id": "4e567136"
      },
      "outputs": [],
      "source": [
        "test_images_3ch_scaled = test_images_3ch / 255.\n",
        "predictions = model.predict(test_images_3ch_scaled)\n",
        "predictions[:5]"
      ]
    },
    {
      "cell_type": "code",
      "execution_count": 25,
      "id": "6866760c",
      "metadata": {
        "colab": {
          "base_uri": "https://localhost:8080/"
        },
        "id": "6866760c",
        "outputId": "241d87d1-e232-438a-9841-12d592c16c08"
      },
      "outputs": [
        {
          "output_type": "execute_result",
          "data": {
            "text/plain": [
              "array([9, 2, 1, 1, 6])"
            ]
          },
          "metadata": {},
          "execution_count": 25
        }
      ],
      "source": [
        "prediction_labels = np.argmax(predictions, axis=1)\n",
        "prediction_labels[:5]"
      ]
    },
    {
      "cell_type": "code",
      "execution_count": 26,
      "id": "68a341aa",
      "metadata": {
        "colab": {
          "base_uri": "https://localhost:8080/",
          "height": 1000
        },
        "id": "68a341aa",
        "outputId": "05adde20-8c35-4d20-8442-79120e0b9bd5"
      },
      "outputs": [
        {
          "metadata": {
            "tags": null
          },
          "name": "stdout",
          "output_type": "stream",
          "text": [
            "              precision    recall  f1-score   support\n",
            "\n",
            " T-shirt/top       0.86      0.90      0.88      1000\n",
            "     Trouser       0.99      0.98      0.99      1000\n",
            "    Pullover       0.87      0.90      0.89      1000\n",
            "       Dress       0.92      0.91      0.91      1000\n",
            "        Coat       0.87      0.88      0.87      1000\n",
            "      Sandal       0.99      0.99      0.99      1000\n",
            "       Shirt       0.81      0.73      0.77      1000\n",
            "     Sneaker       0.96      0.98      0.97      1000\n",
            "         Bag       0.98      0.99      0.99      1000\n",
            "  Ankle boot       0.98      0.96      0.97      1000\n",
            "\n",
            "    accuracy                           0.92     10000\n",
            "   macro avg       0.92      0.92      0.92     10000\n",
            "weighted avg       0.92      0.92      0.92     10000\n",
            "\n"
          ]
        },
        {
          "data": {
            "text/html": [
              "\n",
              "  <div id=\"df-be9d7cc0-4ee5-4a09-b832-83900bb4fad4\">\n",
              "    <div class=\"colab-df-container\">\n",
              "      <div>\n",
              "<style scoped>\n",
              "    .dataframe tbody tr th:only-of-type {\n",
              "        vertical-align: middle;\n",
              "    }\n",
              "\n",
              "    .dataframe tbody tr th {\n",
              "        vertical-align: top;\n",
              "    }\n",
              "\n",
              "    .dataframe thead th {\n",
              "        text-align: right;\n",
              "    }\n",
              "</style>\n",
              "<table border=\"1\" class=\"dataframe\">\n",
              "  <thead>\n",
              "    <tr style=\"text-align: right;\">\n",
              "      <th></th>\n",
              "      <th>T-shirt/top</th>\n",
              "      <th>Trouser</th>\n",
              "      <th>Pullover</th>\n",
              "      <th>Dress</th>\n",
              "      <th>Coat</th>\n",
              "      <th>Sandal</th>\n",
              "      <th>Shirt</th>\n",
              "      <th>Sneaker</th>\n",
              "      <th>Bag</th>\n",
              "      <th>Ankle boot</th>\n",
              "    </tr>\n",
              "  </thead>\n",
              "  <tbody>\n",
              "    <tr>\n",
              "      <th>T-shirt/top</th>\n",
              "      <td>896</td>\n",
              "      <td>0</td>\n",
              "      <td>18</td>\n",
              "      <td>19</td>\n",
              "      <td>1</td>\n",
              "      <td>0</td>\n",
              "      <td>56</td>\n",
              "      <td>0</td>\n",
              "      <td>10</td>\n",
              "      <td>0</td>\n",
              "    </tr>\n",
              "    <tr>\n",
              "      <th>Trouser</th>\n",
              "      <td>0</td>\n",
              "      <td>985</td>\n",
              "      <td>0</td>\n",
              "      <td>9</td>\n",
              "      <td>2</td>\n",
              "      <td>0</td>\n",
              "      <td>2</td>\n",
              "      <td>0</td>\n",
              "      <td>2</td>\n",
              "      <td>0</td>\n",
              "    </tr>\n",
              "    <tr>\n",
              "      <th>Pullover</th>\n",
              "      <td>7</td>\n",
              "      <td>2</td>\n",
              "      <td>903</td>\n",
              "      <td>9</td>\n",
              "      <td>33</td>\n",
              "      <td>0</td>\n",
              "      <td>45</td>\n",
              "      <td>0</td>\n",
              "      <td>1</td>\n",
              "      <td>0</td>\n",
              "    </tr>\n",
              "    <tr>\n",
              "      <th>Dress</th>\n",
              "      <td>11</td>\n",
              "      <td>8</td>\n",
              "      <td>9</td>\n",
              "      <td>911</td>\n",
              "      <td>33</td>\n",
              "      <td>0</td>\n",
              "      <td>27</td>\n",
              "      <td>0</td>\n",
              "      <td>1</td>\n",
              "      <td>0</td>\n",
              "    </tr>\n",
              "    <tr>\n",
              "      <th>Coat</th>\n",
              "      <td>1</td>\n",
              "      <td>0</td>\n",
              "      <td>56</td>\n",
              "      <td>18</td>\n",
              "      <td>879</td>\n",
              "      <td>0</td>\n",
              "      <td>44</td>\n",
              "      <td>0</td>\n",
              "      <td>2</td>\n",
              "      <td>0</td>\n",
              "    </tr>\n",
              "    <tr>\n",
              "      <th>Sandal</th>\n",
              "      <td>0</td>\n",
              "      <td>0</td>\n",
              "      <td>0</td>\n",
              "      <td>0</td>\n",
              "      <td>0</td>\n",
              "      <td>988</td>\n",
              "      <td>0</td>\n",
              "      <td>12</td>\n",
              "      <td>0</td>\n",
              "      <td>0</td>\n",
              "    </tr>\n",
              "    <tr>\n",
              "      <th>Shirt</th>\n",
              "      <td>125</td>\n",
              "      <td>1</td>\n",
              "      <td>46</td>\n",
              "      <td>26</td>\n",
              "      <td>65</td>\n",
              "      <td>0</td>\n",
              "      <td>731</td>\n",
              "      <td>0</td>\n",
              "      <td>6</td>\n",
              "      <td>0</td>\n",
              "    </tr>\n",
              "    <tr>\n",
              "      <th>Sneaker</th>\n",
              "      <td>0</td>\n",
              "      <td>0</td>\n",
              "      <td>0</td>\n",
              "      <td>0</td>\n",
              "      <td>0</td>\n",
              "      <td>4</td>\n",
              "      <td>0</td>\n",
              "      <td>980</td>\n",
              "      <td>0</td>\n",
              "      <td>16</td>\n",
              "    </tr>\n",
              "    <tr>\n",
              "      <th>Bag</th>\n",
              "      <td>1</td>\n",
              "      <td>0</td>\n",
              "      <td>1</td>\n",
              "      <td>1</td>\n",
              "      <td>1</td>\n",
              "      <td>1</td>\n",
              "      <td>0</td>\n",
              "      <td>0</td>\n",
              "      <td>995</td>\n",
              "      <td>0</td>\n",
              "    </tr>\n",
              "    <tr>\n",
              "      <th>Ankle boot</th>\n",
              "      <td>0</td>\n",
              "      <td>0</td>\n",
              "      <td>0</td>\n",
              "      <td>0</td>\n",
              "      <td>0</td>\n",
              "      <td>8</td>\n",
              "      <td>1</td>\n",
              "      <td>31</td>\n",
              "      <td>0</td>\n",
              "      <td>960</td>\n",
              "    </tr>\n",
              "  </tbody>\n",
              "</table>\n",
              "</div>\n",
              "      <button class=\"colab-df-convert\" onclick=\"convertToInteractive('df-be9d7cc0-4ee5-4a09-b832-83900bb4fad4')\"\n",
              "              title=\"Convert this dataframe to an interactive table.\"\n",
              "              style=\"display:none;\">\n",
              "        \n",
              "  <svg xmlns=\"http://www.w3.org/2000/svg\" height=\"24px\"viewBox=\"0 0 24 24\"\n",
              "       width=\"24px\">\n",
              "    <path d=\"M0 0h24v24H0V0z\" fill=\"none\"/>\n",
              "    <path d=\"M18.56 5.44l.94 2.06.94-2.06 2.06-.94-2.06-.94-.94-2.06-.94 2.06-2.06.94zm-11 1L8.5 8.5l.94-2.06 2.06-.94-2.06-.94L8.5 2.5l-.94 2.06-2.06.94zm10 10l.94 2.06.94-2.06 2.06-.94-2.06-.94-.94-2.06-.94 2.06-2.06.94z\"/><path d=\"M17.41 7.96l-1.37-1.37c-.4-.4-.92-.59-1.43-.59-.52 0-1.04.2-1.43.59L10.3 9.45l-7.72 7.72c-.78.78-.78 2.05 0 2.83L4 21.41c.39.39.9.59 1.41.59.51 0 1.02-.2 1.41-.59l7.78-7.78 2.81-2.81c.8-.78.8-2.07 0-2.86zM5.41 20L4 18.59l7.72-7.72 1.47 1.35L5.41 20z\"/>\n",
              "  </svg>\n",
              "      </button>\n",
              "      \n",
              "  <style>\n",
              "    .colab-df-container {\n",
              "      display:flex;\n",
              "      flex-wrap:wrap;\n",
              "      gap: 12px;\n",
              "    }\n",
              "\n",
              "    .colab-df-convert {\n",
              "      background-color: #E8F0FE;\n",
              "      border: none;\n",
              "      border-radius: 50%;\n",
              "      cursor: pointer;\n",
              "      display: none;\n",
              "      fill: #1967D2;\n",
              "      height: 32px;\n",
              "      padding: 0 0 0 0;\n",
              "      width: 32px;\n",
              "    }\n",
              "\n",
              "    .colab-df-convert:hover {\n",
              "      background-color: #E2EBFA;\n",
              "      box-shadow: 0px 1px 2px rgba(60, 64, 67, 0.3), 0px 1px 3px 1px rgba(60, 64, 67, 0.15);\n",
              "      fill: #174EA6;\n",
              "    }\n",
              "\n",
              "    [theme=dark] .colab-df-convert {\n",
              "      background-color: #3B4455;\n",
              "      fill: #D2E3FC;\n",
              "    }\n",
              "\n",
              "    [theme=dark] .colab-df-convert:hover {\n",
              "      background-color: #434B5C;\n",
              "      box-shadow: 0px 1px 3px 1px rgba(0, 0, 0, 0.15);\n",
              "      filter: drop-shadow(0px 1px 2px rgba(0, 0, 0, 0.3));\n",
              "      fill: #FFFFFF;\n",
              "    }\n",
              "  </style>\n",
              "\n",
              "      <script>\n",
              "        const buttonEl =\n",
              "          document.querySelector('#df-be9d7cc0-4ee5-4a09-b832-83900bb4fad4 button.colab-df-convert');\n",
              "        buttonEl.style.display =\n",
              "          google.colab.kernel.accessAllowed ? 'block' : 'none';\n",
              "\n",
              "        async function convertToInteractive(key) {\n",
              "          const element = document.querySelector('#df-be9d7cc0-4ee5-4a09-b832-83900bb4fad4');\n",
              "          const dataTable =\n",
              "            await google.colab.kernel.invokeFunction('convertToInteractive',\n",
              "                                                     [key], {});\n",
              "          if (!dataTable) return;\n",
              "\n",
              "          const docLinkHtml = 'Like what you see? Visit the ' +\n",
              "            '<a target=\"_blank\" href=https://colab.research.google.com/notebooks/data_table.ipynb>data table notebook</a>'\n",
              "            + ' to learn more about interactive tables.';\n",
              "          element.innerHTML = '';\n",
              "          dataTable['output_type'] = 'display_data';\n",
              "          await google.colab.output.renderOutput(dataTable, element);\n",
              "          const docLink = document.createElement('div');\n",
              "          docLink.innerHTML = docLinkHtml;\n",
              "          element.appendChild(docLink);\n",
              "        }\n",
              "      </script>\n",
              "    </div>\n",
              "  </div>\n",
              "  "
            ],
            "text/plain": [
              "             T-shirt/top  Trouser  Pullover  Dress  Coat  Sandal  Shirt  \\\n",
              "T-shirt/top          896        0        18     19     1       0     56   \n",
              "Trouser                0      985         0      9     2       0      2   \n",
              "Pullover               7        2       903      9    33       0     45   \n",
              "Dress                 11        8         9    911    33       0     27   \n",
              "Coat                   1        0        56     18   879       0     44   \n",
              "Sandal                 0        0         0      0     0     988      0   \n",
              "Shirt                125        1        46     26    65       0    731   \n",
              "Sneaker                0        0         0      0     0       4      0   \n",
              "Bag                    1        0         1      1     1       1      0   \n",
              "Ankle boot             0        0         0      0     0       8      1   \n",
              "\n",
              "             Sneaker  Bag  Ankle boot  \n",
              "T-shirt/top        0   10           0  \n",
              "Trouser            0    2           0  \n",
              "Pullover           0    1           0  \n",
              "Dress              0    1           0  \n",
              "Coat               0    2           0  \n",
              "Sandal            12    0           0  \n",
              "Shirt              0    6           0  \n",
              "Sneaker          980    0          16  \n",
              "Bag                0  995           0  \n",
              "Ankle boot        31    0         960  "
            ]
          },
          "execution_count": 26,
          "metadata": {},
          "output_type": "execute_result"
        },
        {
          "output_type": "stream",
          "name": "stdout",
          "text": [
            "              precision    recall  f1-score   support\n",
            "\n",
            " T-shirt/top       0.86      0.90      0.88      1000\n",
            "     Trouser       0.99      0.98      0.99      1000\n",
            "    Pullover       0.87      0.90      0.89      1000\n",
            "       Dress       0.92      0.91      0.91      1000\n",
            "        Coat       0.87      0.88      0.87      1000\n",
            "      Sandal       0.99      0.99      0.99      1000\n",
            "       Shirt       0.81      0.73      0.77      1000\n",
            "     Sneaker       0.96      0.98      0.97      1000\n",
            "         Bag       0.98      0.99      0.99      1000\n",
            "  Ankle boot       0.98      0.96      0.97      1000\n",
            "\n",
            "    accuracy                           0.92     10000\n",
            "   macro avg       0.92      0.92      0.92     10000\n",
            "weighted avg       0.92      0.92      0.92     10000\n",
            "\n"
          ]
        },
        {
          "output_type": "execute_result",
          "data": {
            "text/plain": [
              "             T-shirt/top  Trouser  Pullover  Dress  Coat  Sandal  Shirt  \\\n",
              "T-shirt/top          896        0        18     19     1       0     56   \n",
              "Trouser                0      985         0      9     2       0      2   \n",
              "Pullover               7        2       903      9    33       0     45   \n",
              "Dress                 11        8         9    911    33       0     27   \n",
              "Coat                   1        0        56     18   879       0     44   \n",
              "Sandal                 0        0         0      0     0     988      0   \n",
              "Shirt                125        1        46     26    65       0    731   \n",
              "Sneaker                0        0         0      0     0       4      0   \n",
              "Bag                    1        0         1      1     1       1      0   \n",
              "Ankle boot             0        0         0      0     0       8      1   \n",
              "\n",
              "             Sneaker  Bag  Ankle boot  \n",
              "T-shirt/top        0   10           0  \n",
              "Trouser            0    2           0  \n",
              "Pullover           0    1           0  \n",
              "Dress              0    1           0  \n",
              "Coat               0    2           0  \n",
              "Sandal            12    0           0  \n",
              "Shirt              0    6           0  \n",
              "Sneaker          980    0          16  \n",
              "Bag                0  995           0  \n",
              "Ankle boot        31    0         960  "
            ],
            "text/html": [
              "\n",
              "  <div id=\"df-be9d7cc0-4ee5-4a09-b832-83900bb4fad4\">\n",
              "    <div class=\"colab-df-container\">\n",
              "      <div>\n",
              "<style scoped>\n",
              "    .dataframe tbody tr th:only-of-type {\n",
              "        vertical-align: middle;\n",
              "    }\n",
              "\n",
              "    .dataframe tbody tr th {\n",
              "        vertical-align: top;\n",
              "    }\n",
              "\n",
              "    .dataframe thead th {\n",
              "        text-align: right;\n",
              "    }\n",
              "</style>\n",
              "<table border=\"1\" class=\"dataframe\">\n",
              "  <thead>\n",
              "    <tr style=\"text-align: right;\">\n",
              "      <th></th>\n",
              "      <th>T-shirt/top</th>\n",
              "      <th>Trouser</th>\n",
              "      <th>Pullover</th>\n",
              "      <th>Dress</th>\n",
              "      <th>Coat</th>\n",
              "      <th>Sandal</th>\n",
              "      <th>Shirt</th>\n",
              "      <th>Sneaker</th>\n",
              "      <th>Bag</th>\n",
              "      <th>Ankle boot</th>\n",
              "    </tr>\n",
              "  </thead>\n",
              "  <tbody>\n",
              "    <tr>\n",
              "      <th>T-shirt/top</th>\n",
              "      <td>896</td>\n",
              "      <td>0</td>\n",
              "      <td>18</td>\n",
              "      <td>19</td>\n",
              "      <td>1</td>\n",
              "      <td>0</td>\n",
              "      <td>56</td>\n",
              "      <td>0</td>\n",
              "      <td>10</td>\n",
              "      <td>0</td>\n",
              "    </tr>\n",
              "    <tr>\n",
              "      <th>Trouser</th>\n",
              "      <td>0</td>\n",
              "      <td>985</td>\n",
              "      <td>0</td>\n",
              "      <td>9</td>\n",
              "      <td>2</td>\n",
              "      <td>0</td>\n",
              "      <td>2</td>\n",
              "      <td>0</td>\n",
              "      <td>2</td>\n",
              "      <td>0</td>\n",
              "    </tr>\n",
              "    <tr>\n",
              "      <th>Pullover</th>\n",
              "      <td>7</td>\n",
              "      <td>2</td>\n",
              "      <td>903</td>\n",
              "      <td>9</td>\n",
              "      <td>33</td>\n",
              "      <td>0</td>\n",
              "      <td>45</td>\n",
              "      <td>0</td>\n",
              "      <td>1</td>\n",
              "      <td>0</td>\n",
              "    </tr>\n",
              "    <tr>\n",
              "      <th>Dress</th>\n",
              "      <td>11</td>\n",
              "      <td>8</td>\n",
              "      <td>9</td>\n",
              "      <td>911</td>\n",
              "      <td>33</td>\n",
              "      <td>0</td>\n",
              "      <td>27</td>\n",
              "      <td>0</td>\n",
              "      <td>1</td>\n",
              "      <td>0</td>\n",
              "    </tr>\n",
              "    <tr>\n",
              "      <th>Coat</th>\n",
              "      <td>1</td>\n",
              "      <td>0</td>\n",
              "      <td>56</td>\n",
              "      <td>18</td>\n",
              "      <td>879</td>\n",
              "      <td>0</td>\n",
              "      <td>44</td>\n",
              "      <td>0</td>\n",
              "      <td>2</td>\n",
              "      <td>0</td>\n",
              "    </tr>\n",
              "    <tr>\n",
              "      <th>Sandal</th>\n",
              "      <td>0</td>\n",
              "      <td>0</td>\n",
              "      <td>0</td>\n",
              "      <td>0</td>\n",
              "      <td>0</td>\n",
              "      <td>988</td>\n",
              "      <td>0</td>\n",
              "      <td>12</td>\n",
              "      <td>0</td>\n",
              "      <td>0</td>\n",
              "    </tr>\n",
              "    <tr>\n",
              "      <th>Shirt</th>\n",
              "      <td>125</td>\n",
              "      <td>1</td>\n",
              "      <td>46</td>\n",
              "      <td>26</td>\n",
              "      <td>65</td>\n",
              "      <td>0</td>\n",
              "      <td>731</td>\n",
              "      <td>0</td>\n",
              "      <td>6</td>\n",
              "      <td>0</td>\n",
              "    </tr>\n",
              "    <tr>\n",
              "      <th>Sneaker</th>\n",
              "      <td>0</td>\n",
              "      <td>0</td>\n",
              "      <td>0</td>\n",
              "      <td>0</td>\n",
              "      <td>0</td>\n",
              "      <td>4</td>\n",
              "      <td>0</td>\n",
              "      <td>980</td>\n",
              "      <td>0</td>\n",
              "      <td>16</td>\n",
              "    </tr>\n",
              "    <tr>\n",
              "      <th>Bag</th>\n",
              "      <td>1</td>\n",
              "      <td>0</td>\n",
              "      <td>1</td>\n",
              "      <td>1</td>\n",
              "      <td>1</td>\n",
              "      <td>1</td>\n",
              "      <td>0</td>\n",
              "      <td>0</td>\n",
              "      <td>995</td>\n",
              "      <td>0</td>\n",
              "    </tr>\n",
              "    <tr>\n",
              "      <th>Ankle boot</th>\n",
              "      <td>0</td>\n",
              "      <td>0</td>\n",
              "      <td>0</td>\n",
              "      <td>0</td>\n",
              "      <td>0</td>\n",
              "      <td>8</td>\n",
              "      <td>1</td>\n",
              "      <td>31</td>\n",
              "      <td>0</td>\n",
              "      <td>960</td>\n",
              "    </tr>\n",
              "  </tbody>\n",
              "</table>\n",
              "</div>\n",
              "      <button class=\"colab-df-convert\" onclick=\"convertToInteractive('df-be9d7cc0-4ee5-4a09-b832-83900bb4fad4')\"\n",
              "              title=\"Convert this dataframe to an interactive table.\"\n",
              "              style=\"display:none;\">\n",
              "        \n",
              "  <svg xmlns=\"http://www.w3.org/2000/svg\" height=\"24px\"viewBox=\"0 0 24 24\"\n",
              "       width=\"24px\">\n",
              "    <path d=\"M0 0h24v24H0V0z\" fill=\"none\"/>\n",
              "    <path d=\"M18.56 5.44l.94 2.06.94-2.06 2.06-.94-2.06-.94-.94-2.06-.94 2.06-2.06.94zm-11 1L8.5 8.5l.94-2.06 2.06-.94-2.06-.94L8.5 2.5l-.94 2.06-2.06.94zm10 10l.94 2.06.94-2.06 2.06-.94-2.06-.94-.94-2.06-.94 2.06-2.06.94z\"/><path d=\"M17.41 7.96l-1.37-1.37c-.4-.4-.92-.59-1.43-.59-.52 0-1.04.2-1.43.59L10.3 9.45l-7.72 7.72c-.78.78-.78 2.05 0 2.83L4 21.41c.39.39.9.59 1.41.59.51 0 1.02-.2 1.41-.59l7.78-7.78 2.81-2.81c.8-.78.8-2.07 0-2.86zM5.41 20L4 18.59l7.72-7.72 1.47 1.35L5.41 20z\"/>\n",
              "  </svg>\n",
              "      </button>\n",
              "      \n",
              "  <style>\n",
              "    .colab-df-container {\n",
              "      display:flex;\n",
              "      flex-wrap:wrap;\n",
              "      gap: 12px;\n",
              "    }\n",
              "\n",
              "    .colab-df-convert {\n",
              "      background-color: #E8F0FE;\n",
              "      border: none;\n",
              "      border-radius: 50%;\n",
              "      cursor: pointer;\n",
              "      display: none;\n",
              "      fill: #1967D2;\n",
              "      height: 32px;\n",
              "      padding: 0 0 0 0;\n",
              "      width: 32px;\n",
              "    }\n",
              "\n",
              "    .colab-df-convert:hover {\n",
              "      background-color: #E2EBFA;\n",
              "      box-shadow: 0px 1px 2px rgba(60, 64, 67, 0.3), 0px 1px 3px 1px rgba(60, 64, 67, 0.15);\n",
              "      fill: #174EA6;\n",
              "    }\n",
              "\n",
              "    [theme=dark] .colab-df-convert {\n",
              "      background-color: #3B4455;\n",
              "      fill: #D2E3FC;\n",
              "    }\n",
              "\n",
              "    [theme=dark] .colab-df-convert:hover {\n",
              "      background-color: #434B5C;\n",
              "      box-shadow: 0px 1px 3px 1px rgba(0, 0, 0, 0.15);\n",
              "      filter: drop-shadow(0px 1px 2px rgba(0, 0, 0, 0.3));\n",
              "      fill: #FFFFFF;\n",
              "    }\n",
              "  </style>\n",
              "\n",
              "      <script>\n",
              "        const buttonEl =\n",
              "          document.querySelector('#df-be9d7cc0-4ee5-4a09-b832-83900bb4fad4 button.colab-df-convert');\n",
              "        buttonEl.style.display =\n",
              "          google.colab.kernel.accessAllowed ? 'block' : 'none';\n",
              "\n",
              "        async function convertToInteractive(key) {\n",
              "          const element = document.querySelector('#df-be9d7cc0-4ee5-4a09-b832-83900bb4fad4');\n",
              "          const dataTable =\n",
              "            await google.colab.kernel.invokeFunction('convertToInteractive',\n",
              "                                                     [key], {});\n",
              "          if (!dataTable) return;\n",
              "\n",
              "          const docLinkHtml = 'Like what you see? Visit the ' +\n",
              "            '<a target=\"_blank\" href=https://colab.research.google.com/notebooks/data_table.ipynb>data table notebook</a>'\n",
              "            + ' to learn more about interactive tables.';\n",
              "          element.innerHTML = '';\n",
              "          dataTable['output_type'] = 'display_data';\n",
              "          await google.colab.output.renderOutput(dataTable, element);\n",
              "          const docLink = document.createElement('div');\n",
              "          docLink.innerHTML = docLinkHtml;\n",
              "          element.appendChild(docLink);\n",
              "        }\n",
              "      </script>\n",
              "    </div>\n",
              "  </div>\n",
              "  "
            ]
          },
          "metadata": {},
          "execution_count": 26
        }
      ],
      "source": [
        "print(classification_report(test_labels, prediction_labels, target_names=class_names))\n",
        "pd.DataFrame(confusion_matrix(test_labels, prediction_labels), index=class_names, columns=class_names)"
      ]
    }
  ],
  "metadata": {
    "kernelspec": {
      "display_name": "Python 3 (ipykernel)",
      "language": "python",
      "name": "python3"
    },
    "language_info": {
      "codemirror_mode": {
        "name": "ipython",
        "version": 3
      },
      "file_extension": ".py",
      "mimetype": "text/x-python",
      "name": "python",
      "nbconvert_exporter": "python",
      "pygments_lexer": "ipython3",
      "version": "3.9.7"
    },
    "colab": {
      "name": "Convolutional Neural Networks - Building CNN Classifiers.ipynb",
      "provenance": []
    },
    "accelerator": "GPU",
    "gpuClass": "standard"
  },
  "nbformat": 4,
  "nbformat_minor": 5
}